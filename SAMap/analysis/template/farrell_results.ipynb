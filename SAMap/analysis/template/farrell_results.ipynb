{
 "cells": [
  {
   "cell_type": "markdown",
   "metadata": {},
   "source": [
    "# SAMap zebrafish Farrell vs amphioxus results\n",
    "With leiden-based neighborhoods\n",
    "\n",
    "Zebrafish proteins"
   ]
  },
  {
   "cell_type": "code",
   "execution_count": null,
   "metadata": {},
   "outputs": [],
   "source": [
    "from samap.mapping import SAMAP\n",
    "from samap.analysis import (get_mapping_scores, GenePairFinder, sankey_plot, chord_plot, CellTypeTriangles, \n",
    "                            ParalogSubstitutions, FunctionalEnrichment,\n",
    "                            convert_eggnog_to_homologs, GeneTriangles)\n",
    "from samalg import SAM\n",
    "import pandas as pd\n",
    "import numpy\n",
    "import seaborn as sns\n",
    "import csv\n",
    "import matplotlib.pyplot as plt\n",
    "from matplotlib.pyplot import rc_context\n",
    "import scanpy as sc\n",
    "import warnings\n",
    "warnings.filterwarnings(action='ignore')\n",
    "import pickle\n",
    "import anndata as ad\n",
    "import holoviews as hv\n",
    "\n",
    "with open('sam_processed.pkl', 'rb') as inp:\n",
    "    sm = pickle.load(inp)"
   ]
  },
  {
   "cell_type": "markdown",
   "metadata": {},
   "source": [
    "## Read parameters"
   ]
  },
  {
   "cell_type": "code",
   "execution_count": null,
   "metadata": {},
   "outputs": [],
   "source": [
    "with open('config.csv') as f:\n",
    "    config=[tuple(line) for line in csv.reader(f)]\n",
    "\n",
    "config=dict(config)\n",
    "contrast='farrell_'+config[\"stage_zebra\"]+'_vs_'+config[\"stage_amp\"]\n",
    "print(contrast)"
   ]
  },
  {
   "cell_type": "markdown",
   "metadata": {},
   "source": [
    "Show parameters."
   ]
  },
  {
   "cell_type": "code",
   "execution_count": null,
   "metadata": {},
   "outputs": [],
   "source": [
    "pd.DataFrame.from_dict(config,orient='index',dtype='str')"
   ]
  },
  {
   "cell_type": "markdown",
   "metadata": {},
   "source": [
    "## Add coarse annotation"
   ]
  },
  {
   "cell_type": "code",
   "execution_count": null,
   "metadata": {},
   "outputs": [],
   "source": [
    "with open('../../input_data/farell_coarse_annot_map.csv') as f:\n",
    "    annot_map=[tuple(line) for line in csv.reader(f)]\n",
    "\n",
    "annot_map=dict(annot_map)\n",
    "\n",
    "sm.sams['dr'].adata.obs['celltype_coarse']=sm.sams['dr'].adata.obs['segment_celltype'].replace(annot_map).astype(str)\n",
    "\n",
    "sm.sams['dr'].adata.obs['celltype_coarse_stage']=sm.sams['dr'].adata.obs['celltype_coarse'].astype(str)+'_'+sm.sams['dr'].adata.obs['stage_fine'].astype(str)\n",
    "\n",
    "concat_ads=ad.concat({'Zebrafish':sm.sams['dr'].adata,\n",
    "                     'Amphioxus':sm.sams['bf'].adata}, label=\"dataset\")"
   ]
  },
  {
   "cell_type": "markdown",
   "metadata": {},
   "source": [
    "# Post-SAMap analysis"
   ]
  },
  {
   "cell_type": "markdown",
   "metadata": {},
   "source": [
    "## Visualizing the combined projection"
   ]
  },
  {
   "cell_type": "code",
   "execution_count": null,
   "metadata": {},
   "outputs": [],
   "source": [
    "sc.pl.embedding(concat_ads,\n",
    "                    basis='X_umap_samap',\n",
    "                    color='dataset',\n",
    "                frameon=False,\n",
    "                title='SAMap UMAP amphioxus '+config[\"stage_amp\"]+' vs Zebrafish '+config[\"stage_zebra\"],\n",
    "                palette={'Zebrafish':('#1b9e77',0.8),'Amphioxus':('#d95f02',0.8)})"
   ]
  },
  {
   "cell_type": "markdown",
   "metadata": {},
   "source": [
    "Visualise both objects with celltypes"
   ]
  },
  {
   "cell_type": "code",
   "execution_count": null,
   "metadata": {},
   "outputs": [],
   "source": [
    "pal_bf={'Ectoderm':'tab:blue',\n",
    "       'Endoderm':'tab:orange',\n",
    "       'Mesoderm':'tab:green',\n",
    "       'Neural':'tab:red',\n",
    "       'Notochord':'tab:purple',\n",
    "       'Unidentified':'tab:cyan'}\n",
    "\n",
    "pal_dr={'Ectoderm':'tab:blue',\n",
    "       'Endoderm':'tab:orange',\n",
    "       'Mesoderm':'tab:green',\n",
    "       'Neural':'tab:red',\n",
    "       'Notochord':'tab:purple',\n",
    "       'Unassigned_types':'tab:cyan'}\n",
    "sc.pl.embedding(sm.sams['bf'].adata,\n",
    "                    basis='X_umap_samap',\n",
    "                    color='celltype_coarse2',\n",
    "                title=('Amphioxus integrated '+config[\"stage_amp\"]),\n",
    "                    frameon=False,save='_amp'+config[\"stage_amp\"]+'_int_celltypes.pdf',\n",
    "               palette=pal_bf)\n",
    "sc.pl.embedding(sm.sams['dr'].adata,\n",
    "                    basis='X_umap_samap',\n",
    "                title=('Zebrafish integrated '+config[\"stage_zebra\"]),\n",
    "                    color='celltype_coarse',\n",
    "                    frameon=False,save='_dr'+config[\"stage_zebra\"]+'_int_celltypes.pdf',\n",
    "               palette=pal_dr)"
   ]
  },
  {
   "cell_type": "markdown",
   "metadata": {},
   "source": [
    "## Selected celltype visualisation"
   ]
  },
  {
   "cell_type": "code",
   "execution_count": null,
   "metadata": {},
   "outputs": [],
   "source": [
    "ncols = 3\n",
    "nrows = 1\n",
    "figsize =6.5\n",
    "wspace = 0.3\n",
    "fig, axs = plt.subplots(\n",
    "    nrows=nrows,\n",
    "    ncols=ncols,\n",
    "    figsize=(ncols * figsize + figsize * wspace * (ncols - 1), nrows * figsize),\n",
    ")\n",
    "plt.subplots_adjust(wspace=wspace)\n",
    "\n",
    "sc.pl.embedding(sm.sams['bf'].adata,\n",
    "                    basis='X_umap_samap',\n",
    "                    color='celltype_fine',\n",
    "                    groups=['PrechordalPlate','Notochord','MNCC-likeCells','PMNCC'],\n",
    "                    frameon=True,\n",
    "                   title='Amphioxus '+config[\"stage_amp\"],ax=axs[0], show=False)\n",
    "#sm.scatter(COLORS={'dr':'#10b9f1','bf':'#f14810'},axes=axs[1],ss={'bf':5,'dr':5},alpha=0.5)\n",
    "\n",
    "sc.pl.embedding(concat_ads,\n",
    "                    basis='X_umap_samap',\n",
    "                    color='dataset',\n",
    "                frameon=True,\n",
    "                title='Combined by SAMap',\n",
    "                palette={'Zebrafish':('#1b9e77',0.8),'Amphioxus':('#d95f02',0.8)},ax=axs[1],show=False)\n",
    "\n",
    "sc.pl.embedding(sm.sams['dr'].adata,\n",
    "                    basis='X_umap_samap',\n",
    "                    color='segment_celltype',\n",
    "                    groups=['29_Lineage_Prechordal_Plate',\n",
    "                            '32_Lineage_Notochord',\n",
    "                            '59_Lineage_Midbrain_Neural_Crest',\n",
    "                            '59_Lineage_Placode_Olfactory',\n",
    "                            '61_unassigned',\n",
    "                           '70_unassigned'],\n",
    "                    frameon=True,\n",
    "               title='Zebrafish '+config[\"stage_zebra\"], ax=axs[2])\n"
   ]
  },
  {
   "cell_type": "markdown",
   "metadata": {},
   "source": [
    "### Visualise prechordal plate markers"
   ]
  },
  {
   "cell_type": "code",
   "execution_count": null,
   "metadata": {},
   "outputs": [],
   "source": [
    "zebra_pp_markers=['dr_six3b','dr_six7','dr_gsc','dr_foxa3','dr_otx1a']\n",
    "amp_pp_markers=['bf_Six3/6','bf_Six4/5','bf_Cerberus','bf_Dmbx','bf_Fz5/8']\n",
    "print('Amphioxus PP markers')\n",
    "with rc_context({\"figure.figsize\": (4, 6)}):\n",
    "    sc.pl.embedding(sm.sams['bf'].adata,\n",
    "                    basis='X_umap_samap',\n",
    "                    color=amp_pp_markers,\n",
    "                    frameon=False,\n",
    "                    colorbar_loc=None,\n",
    "                    ncols=5)\n",
    "    print('Zebrafish PP markers')\n",
    "    sc.pl.embedding(sm.sams['dr'].adata,\n",
    "                    basis='X_umap_samap',\n",
    "                    color=zebra_pp_markers,\n",
    "                    frameon=False,\n",
    "                    colorbar_loc=None,\n",
    "                    ncols=5)"
   ]
  },
  {
   "cell_type": "markdown",
   "metadata": {},
   "source": [
    "### Notochord markers"
   ]
  },
  {
   "cell_type": "code",
   "execution_count": null,
   "metadata": {},
   "outputs": [],
   "source": [
    "zebra_noto_markers=['dr_noto','dr_mnx1','dr_foxd5','dr_foxa2','dr_chd']\n",
    "amp_noto_markers=['bf_Admp','bf_Mnx','bf_Goosecoid','bf_Shh','bf_Chordin']\n",
    "print('Amphioxus Noto markers')\n",
    "with rc_context({\"figure.figsize\": (4, 6)}):\n",
    "    sc.pl.embedding(sm.sams['bf'].adata,\n",
    "                    basis='X_umap_samap',\n",
    "                    color=amp_noto_markers,\n",
    "                    frameon=False,\n",
    "                    colorbar_loc=None,\n",
    "                    ncols=5)\n",
    "    print('Zebrafish Noto markers')\n",
    "    sc.pl.embedding(sm.sams['dr'].adata,\n",
    "                    basis='X_umap_samap',\n",
    "                    color=zebra_noto_markers,\n",
    "                    frameon=False,\n",
    "                    colorbar_loc=None,\n",
    "                    ncols=5)"
   ]
  },
  {
   "cell_type": "markdown",
   "metadata": {},
   "source": [
    "## Calculating cell type mapping scores"
   ]
  },
  {
   "cell_type": "code",
   "execution_count": null,
   "metadata": {
    "scrolled": true
   },
   "outputs": [],
   "source": [
    "D50_fine,MappingTable50_fine = get_mapping_scores(sm,{'dr' : 'segment_celltype', 'bf' : 'celltype_fine'},n_top = 50)\n",
    "MappingTable50_fine.filter(regex=(\"bf_.*\")).filter(axis='index',regex=(\"dr_.*\")).to_csv('Mapping_table_top50_fine_'+contrast+'.csv')\n",
    "#D50.head()\n",
    "D50_coarse,MappingTable50_coarse = get_mapping_scores(sm,{'dr' : 'celltype_coarse', 'bf' : 'celltype_coarse2'},n_top = 50)\n",
    "MappingTable50_coarse.filter(regex=(\"bf_.*\")).filter(axis='index',regex=(\"dr_.*\")).to_csv('Mapping_table_top50_coarse_'+contrast+'.csv')"
   ]
  },
  {
   "attachments": {},
   "cell_type": "markdown",
   "metadata": {},
   "source": [
    "## Visualizing mapping scores"
   ]
  },
  {
   "cell_type": "markdown",
   "metadata": {},
   "source": [
    "### Per celltype"
   ]
  },
  {
   "cell_type": "markdown",
   "metadata": {},
   "source": [
    "Fine annotation"
   ]
  },
  {
   "cell_type": "code",
   "execution_count": null,
   "metadata": {},
   "outputs": [],
   "source": [
    "plt.gcf().set_size_inches(len(sm.sams['dr'].adata.obs[\"segment_celltype\"].unique())/2,\n",
    "                         (len(sm.sams['bf'].adata.obs[\"celltype_fine\"].unique())/2)-1)\n",
    "plt.title('Mapping score fine celltypes '+contrast)\n",
    "sns.heatmap(MappingTable50_fine.filter(regex=(\"dr_.*\")).filter(axis='index',regex=(\"bf_.*\")),cmap=\"magma_r\",xticklabels=True,yticklabels=True)#,ax=ax)#[0])\n",
    "plt.savefig('figures/hm_celltype_fine_'+contrast+'.pdf',bbox_inches='tight')\n",
    "plt.savefig('figures/hm_celltype_fine_'+contrast+'.png',dpi=250,bbox_inches='tight')"
   ]
  },
  {
   "cell_type": "markdown",
   "metadata": {},
   "source": [
    "Coarse annotation"
   ]
  },
  {
   "cell_type": "code",
   "execution_count": null,
   "metadata": {},
   "outputs": [],
   "source": [
    "plt.gcf().set_size_inches(len(sm.sams['dr'].adata.obs[\"celltype_coarse\"].unique())/2,\n",
    "                         (len(sm.sams['bf'].adata.obs[\"celltype_coarse2\"].unique())/2)-1)\n",
    "plt.title('Mapping score coarse celltypes '+contrast)\n",
    "sns.heatmap(MappingTable50_coarse.filter(regex=(\"dr_.*\")).filter(axis='index',regex=(\"bf_.*\")),cmap=\"magma_r\",xticklabels=True,yticklabels=True)\n",
    "plt.savefig('figures/hm_celltype_coarse_'+contrast+'.pdf',bbox_inches='tight')\n",
    "plt.savefig('figures/hm_celltype_coarse_'+contrast+'.png',dpi=250,bbox_inches='tight')"
   ]
  },
  {
   "cell_type": "markdown",
   "metadata": {},
   "source": [
    "## Others"
   ]
  },
  {
   "cell_type": "markdown",
   "metadata": {},
   "source": [
    "### Export stacked plots"
   ]
  },
  {
   "cell_type": "code",
   "execution_count": null,
   "metadata": {},
   "outputs": [],
   "source": [
    "ncols = 1\n",
    "nrows = 3\n",
    "figsize = 5\n",
    "wspace = 0.3\n",
    "fig, axs = plt.subplots(\n",
    "    nrows=nrows,\n",
    "    ncols=ncols,\n",
    "    figsize=(ncols * figsize + figsize * wspace * (ncols - 1), nrows * figsize),\n",
    ")\n",
    "plt.subplots_adjust(wspace=wspace)\n",
    "\n",
    "#axs[0].set_title('SAMap UMAP amphioxus '+config[\"stage_amp\"]+' (red) vs Zebrafish '+config[\"stage_zebra\"]+' (blue)')\n",
    "sc.pl.embedding(concat_ads,\n",
    "                    basis='X_umap_samap',\n",
    "                    color='dataset',\n",
    "                frameon=True,\n",
    "                title='Combined by SAMap',\n",
    "                size=20,\n",
    "                ax=axs[0],\n",
    "                palette={'Zebrafish':('#1b9e77',0.8),'Amphioxus':('#d95f02',0.8)},\n",
    "               show=False)\n",
    "\n",
    "\n",
    "sc.pl.embedding(sm.sams['bf'].adata,\n",
    "                    basis='X_umap_samap',\n",
    "                    color='celltype_coarse2',\n",
    "                    frameon=True,\n",
    "                ax=axs[1],\n",
    "                show=False,\n",
    "                title='Amphioxus '+config[\"stage_amp\"]+' celltypes',\n",
    "               size=20,\n",
    "               palette=pal_bf)\n",
    "\n",
    "sc.pl.embedding(sm.sams['dr'].adata,\n",
    "                    basis='X_umap_samap',\n",
    "                    color='celltype_coarse',\n",
    "                    frameon=True,\n",
    "                ax=axs[2],\n",
    "                show=False,\n",
    "                title='Zebrafish '+config[\"stage_zebra\"]+' celltypes',\n",
    "               size=20,\n",
    "               palette=pal_dr)\n",
    "\n",
    "#sm.scatter(COLORS={'dr':'#10b9f1','bf':'#f14810'},axes=axs[0],ss={'bf':3,'dr':3},alpha=0.5)\n",
    "\n",
    "fig.savefig('figures/comparison_'+contrast+'.pdf',bbox_inches='tight')\n",
    "fig.savefig('figures/comparison_'+contrast+'.png',bbox_inches='tight',dpi=300)"
   ]
  },
  {
   "cell_type": "code",
   "execution_count": null,
   "metadata": {},
   "outputs": [],
   "source": [
    "ncols = 1\n",
    "nrows = 3\n",
    "figsize = 5\n",
    "wspace = 0.3\n",
    "fig, axs = plt.subplots(\n",
    "    nrows=nrows,\n",
    "    ncols=ncols,\n",
    "    figsize=(ncols * figsize + figsize * wspace * (ncols - 1), nrows * figsize),\n",
    ")\n",
    "\n",
    "plt.subplots_adjust(wspace=wspace)\n",
    "\n",
    "sc.pl.embedding(sm.sams['bf'].adata,\n",
    "                    basis='X_umap_samap',\n",
    "                    color='celltype_fine',\n",
    "                    groups=['PrechordalPlate','Notochord','MNCC-likeCells','PMNCC'],\n",
    "                    frameon=True,\n",
    "                   title='Amphioxus '+config[\"stage_amp\"],ax=axs[1], show=False,size=20)\n",
    "#sm.scatter(COLORS={'dr':'#10b9f1','bf':'#f14810'},axes=axs[1],ss={'bf':5,'dr':5},alpha=0.5)\n",
    "\n",
    "sc.pl.embedding(concat_ads,\n",
    "                    basis='X_umap_samap',\n",
    "                    color='dataset',\n",
    "                frameon=True,\n",
    "                title='Combined by SAMap',\n",
    "                size=20,\n",
    "                palette={'Zebrafish':('#1b9e77',0.8),'Amphioxus':('#d95f02',0.8)},ax=axs[0],show=False)\n",
    "\n",
    "sc.pl.embedding(sm.sams['dr'].adata,\n",
    "                    basis='X_umap_samap',\n",
    "                    color='segment_celltype',\n",
    "                    groups=['29_Lineage_Prechordal_Plate',\n",
    "                            '32_Lineage_Notochord',\n",
    "                            '59_Lineage_Midbrain_Neural_Crest',\n",
    "                            '59_Lineage_Placode_Olfactory',\n",
    "                            '61_unassigned',\n",
    "                           '70_unassigned'],\n",
    "                    frameon=True,\n",
    "                size=20,\n",
    "               title='Zebrafish '+config[\"stage_zebra\"], ax=axs[2])\n",
    "\n",
    "fig.savefig('figures/comparison_selection_'+contrast+'.pdf',bbox_inches='tight')\n",
    "fig.savefig('figures/comparison_selection_'+contrast+'.png',bbox_inches='tight',dpi=300)"
   ]
  }
 ],
 "metadata": {
  "kernelspec": {
   "display_name": "Python 3 (ipykernel)",
   "language": "python",
   "name": "python3"
  },
  "language_info": {
   "codemirror_mode": {
    "name": "ipython",
    "version": 3
   },
   "file_extension": ".py",
   "mimetype": "text/x-python",
   "name": "python",
   "nbconvert_exporter": "python",
   "pygments_lexer": "ipython3",
   "version": "3.9.19"
  }
 },
 "nbformat": 4,
 "nbformat_minor": 4
}
