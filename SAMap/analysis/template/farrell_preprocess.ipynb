{
 "cells": [
  {
   "cell_type": "markdown",
   "metadata": {},
   "source": [
    "# SAMap zebrafish Farrell vs amphioxus preprocess\n",
    "With leiden-based neighborhoods"
   ]
  },
  {
   "cell_type": "code",
   "execution_count": null,
   "metadata": {},
   "outputs": [],
   "source": [
    "from samap.mapping import SAMAP\n",
    "from samap.analysis import (get_mapping_scores, GenePairFinder, sankey_plot, chord_plot, CellTypeTriangles, \n",
    "                            ParalogSubstitutions, FunctionalEnrichment,\n",
    "                            convert_eggnog_to_homologs, GeneTriangles)\n",
    "from samalg import SAM\n",
    "import pandas as pd\n",
    "import numpy\n",
    "import seaborn as sns\n",
    "import csv\n",
    "import matplotlib.pyplot as plt\n",
    "from matplotlib.pyplot import rc_context\n",
    "import scanpy as sc\n",
    "import warnings\n",
    "warnings.filterwarnings(action='ignore')\n",
    "import pickle\n",
    "\n",
    "def save_object(obj, filename):\n",
    "    with open(filename, 'wb') as outp:  # Overwrites any existing file.\n",
    "        pickle.dump(obj, outp, pickle.HIGHEST_PROTOCOL)"
   ]
  },
  {
   "cell_type": "markdown",
   "metadata": {},
   "source": [
    "## Read parameters"
   ]
  },
  {
   "cell_type": "code",
   "execution_count": null,
   "metadata": {},
   "outputs": [],
   "source": [
    "with open('config.csv') as f:\n",
    "    config=[tuple(line) for line in csv.reader(f)]\n",
    "\n",
    "config=dict(config)\n",
    "contrast='farrell_'+config[\"stage_zebra\"]+'_vs_'+config[\"stage_amp\"]\n",
    "print(contrast)"
   ]
  },
  {
   "cell_type": "code",
   "execution_count": null,
   "metadata": {},
   "outputs": [],
   "source": [
    "pd.DataFrame.from_dict(config,orient='index',dtype='str')"
   ]
  },
  {
   "cell_type": "markdown",
   "metadata": {},
   "source": [
    "## Read gene name mapping"
   ]
  },
  {
   "cell_type": "markdown",
   "metadata": {},
   "source": [
    "Parse mapping of transcript ids vs gene names used in the anndata object"
   ]
  },
  {
   "cell_type": "code",
   "execution_count": null,
   "metadata": {},
   "outputs": [],
   "source": [
    "with open('../../../reference/zebra_ens_prot/zf_final_prot_gene_map.csv') as f:\n",
    "    dr_idmap=[tuple(line) for line in csv.reader(f)][2:]\n",
    "\n",
    "with open('../../../reference/amp_braflo100_cdna/amp_tr_gene_map.csv') as f:\n",
    "    bf_idmap=[tuple(line) for line in csv.reader(f)][2:]\n",
    "\n",
    "print(dr_idmap[:5])\n",
    "print(bf_idmap[:5])"
   ]
  },
  {
   "cell_type": "markdown",
   "metadata": {},
   "source": [
    "# Running SAMap"
   ]
  },
  {
   "cell_type": "markdown",
   "metadata": {},
   "source": [
    "SAMap accepts file paths to unprocessed, raw `.h5ad` files. The only processing that should be done on these files is to remove low-quality cells. Otherwise, they should be completely unprocessed. The gene expressions (`AnnData.X`) should be in `scipy` `sparse` format (e.g. `scipy.sparse.csr_matrix`).\n",
    "\n",
    "Alternatively, if you already have processed and run `SAM` objects, you can load them into SAMap directly. Below, we will show examples of both."
   ]
  },
  {
   "cell_type": "markdown",
   "metadata": {},
   "source": [
    "## Loading in raw data"
   ]
  },
  {
   "cell_type": "markdown",
   "metadata": {},
   "source": [
    "When loading in raw data, SAMap will automatically process them with SAM and save the results to an `*_pr.h5ad` file. For example, f the raw data is `file.h5ad` the processed data will be saved to `file_pr.h5ad`."
   ]
  },
  {
   "cell_type": "code",
   "execution_count": null,
   "metadata": {},
   "outputs": [],
   "source": [
    "path_dr = config[\"path_zebra\"]\n",
    "path_amp = config[\"path_amp\"]"
   ]
  },
  {
   "cell_type": "markdown",
   "metadata": {},
   "source": [
    "SAMap expects the above to be in a dictionary keyed by the species IDs determined in the BLAST step:"
   ]
  },
  {
   "cell_type": "code",
   "execution_count": null,
   "metadata": {},
   "outputs": [],
   "source": [
    "filenames = {'dr':path_dr,'bf':path_amp}"
   ]
  },
  {
   "cell_type": "markdown",
   "metadata": {},
   "source": [
    "Instantiate the SAMAP object as below. "
   ]
  },
  {
   "cell_type": "code",
   "execution_count": null,
   "metadata": {},
   "outputs": [],
   "source": [
    "sm = SAMAP(\n",
    "        filenames,\n",
    "        f_maps = '../../../reference/maps_prot/maps_ens/',\n",
    "        names = {'dr' : dr_idmap, 'bf' : bf_idmap},\n",
    "        #keys = {'dr' : 'TimeID', 'bf' : 'stage'},\n",
    "        #resolutions = {'dr' : 5, 'bf' : 3},\n",
    "        save_processed=False #if False, do not save the processed results to `*_pr.h5ad`\n",
    "    )"
   ]
  },
  {
   "cell_type": "markdown",
   "metadata": {},
   "source": [
    "Show unintegrated umaps"
   ]
  },
  {
   "cell_type": "code",
   "execution_count": null,
   "metadata": {},
   "outputs": [],
   "source": [
    "sc.pl.embedding(sm.sams['bf'].adata,\n",
    "                    basis='X_umap',\n",
    "                    color='celltype_coarse2',\n",
    "                title=('Amphioxus unintegrated '+config[\"stage_amp\"]),\n",
    "                    frameon=False)\n",
    "\n",
    "sc.pl.embedding(sm.sams['dr'].adata,\n",
    "                    basis='X_umap',\n",
    "                title=('Zebrafish unintegrated '+config[\"stage_zebra\"]),\n",
    "                    color='celltype',\n",
    "                    frameon=False)"
   ]
  },
  {
   "attachments": {},
   "cell_type": "markdown",
   "metadata": {},
   "source": [
    "### Digression: How does SAMap robustly determine cross-species neighbors?\n",
    "\n",
    "SAMap initially identifies the k-nearest cross-species neighbors for each cell. It then looks at the mutual connectivity between neighborhoods of cells rather than individual cells to determine the connectivity of cells across species.\n",
    "\n",
    "In this way, even if two cells are NOT directly connected to each other in the initial kNN graph, if their ***neighborhoods*** are connected, then these two cells will be considered as neighboring regardless. The exact edge weight is calculated by looking at the fraction of edges connecting their two neighborhoods.\n",
    "\n",
    "By default, SAMap identifies neighborhoods within species by hopping along the outgoing edges from each cell in each species' manifold (constructed by SAM). To ensure that the neighborhoods do not get unreasonably large, this \"hopping\" is truncated by the size of the cluster to which each cell belongs. In other words, each cell's neighborhood will never be bigger than the size of its cluster. In this way, we mitigate scenarios where the neighborhoods of distinct cell types are erroneously merged together.\n",
    "\n",
    "The clusters are computed using leiden clustering, and the resolution parameter is set to 3 by default. The resolution parameter can be specified using the `resolutions` argument in `SAMAP` as follows:"
   ]
  },
  {
   "cell_type": "markdown",
   "metadata": {},
   "source": [
    "Finally, rather than determining neighborhood sizes by hopping along each cell's outgoing edges, we can also determine them using the cell type labels. In other words, cells that have the same label all belong to the same neighborhood. This can be set using the `neigh_from_keys` parameter of `SAMAP.run`."
   ]
  },
  {
   "cell_type": "markdown",
   "metadata": {},
   "source": [
    "## Run SAMap"
   ]
  },
  {
   "cell_type": "code",
   "execution_count": null,
   "metadata": {},
   "outputs": [],
   "source": [
    "sm.run(ncpus=16)"
   ]
  },
  {
   "cell_type": "markdown",
   "metadata": {},
   "source": [
    "save samap object"
   ]
  },
  {
   "cell_type": "code",
   "execution_count": null,
   "metadata": {},
   "outputs": [],
   "source": [
    "save_object(sm,'sam_processed.pkl')"
   ]
  },
  {
   "cell_type": "markdown",
   "metadata": {},
   "source": [
    "# Post-SAMap analysis\n",
    "\n",
    "Okay, so we were able to produce a SAM object, `samap`, with datasets stitched together.\n",
    "\n",
    "Some notes about the combined SAM object:\n",
    "- The expression data in `samap.adata` is a block-diagonal matrix of each species' gene expressions.\n",
    "- The species ID for each cell is stored in `samap.adata.obs['species']`\n",
    "- The combined graph is stored in `samap.adata.obs['connectivities']`\n",
    "- The refined homology graph is stored in `samap.adata.varp['homology_graph_reweighted']` (or `sm.gnnm_refined`) and the gene names corresponding to this graph are stored in `samap.adata.var_names` (or `sm.gns`).\n",
    "\n",
    "Now, I'll go over some tools I provide to help interpret and visualize your results.\n"
   ]
  },
  {
   "cell_type": "markdown",
   "metadata": {},
   "source": [
    "## Visualizing the combined projection"
   ]
  },
  {
   "cell_type": "code",
   "execution_count": null,
   "metadata": {},
   "outputs": [],
   "source": [
    "fig, ax = plt.subplots()\n",
    "fig.set_figwidth(5)\n",
    "fig.set_figheight(5)\n",
    "fig.tight_layout()\n",
    "ax.set_title('SAMap UMAP amphioxus '+config[\"stage_amp\"]+' (red) vs Zebrafish '+config[\"stage_zebra\"]+' (blue)')\n",
    "sm.scatter(COLORS={'dr':'#10b9f1','bf':'#f14810'},axes=ax,ss={'bf':5,'dr':5},alpha=0.5)"
   ]
  }
 ],
 "metadata": {
  "kernelspec": {
   "display_name": "Python 3 (ipykernel)",
   "language": "python",
   "name": "python3"
  },
  "language_info": {
   "codemirror_mode": {
    "name": "ipython",
    "version": 3
   },
   "file_extension": ".py",
   "mimetype": "text/x-python",
   "name": "python",
   "nbconvert_exporter": "python",
   "pygments_lexer": "ipython3",
   "version": "3.9.19"
  }
 },
 "nbformat": 4,
 "nbformat_minor": 4
}
