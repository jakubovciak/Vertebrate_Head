{
 "cells": [
  {
   "cell_type": "markdown",
   "metadata": {},
   "source": [
    "# SAMap zebrafish Farrell 10 - 12 hpf vs amphioxus N5 preprocess\n",
    "With leiden-based neighborhoods\n",
    "\n",
    "Zebrafish proteins"
   ]
  },
  {
   "cell_type": "code",
   "execution_count": null,
   "metadata": {},
   "outputs": [],
   "source": [
    "from samap.mapping import SAMAP\n",
    "from samap.analysis import (get_mapping_scores, GenePairFinder, sankey_plot, chord_plot, CellTypeTriangles, \n",
    "                            ParalogSubstitutions, FunctionalEnrichment,\n",
    "                            convert_eggnog_to_homologs, GeneTriangles)\n",
    "from samalg import SAM\n",
    "import pandas as pd\n",
    "import numpy\n",
    "import seaborn as sns\n",
    "import csv\n",
    "import matplotlib.pyplot as plt\n",
    "from matplotlib.pyplot import rc_context\n",
    "import scanpy as sc\n",
    "import anndata as ad\n",
    "import warnings\n",
    "warnings.filterwarnings(action='ignore')\n",
    "import pickle\n",
    "\n",
    "def save_object(obj, filename):\n",
    "    with open(filename, 'wb') as outp:  # Overwrites any existing file.\n",
    "        pickle.dump(obj, outp, pickle.HIGHEST_PROTOCOL)"
   ]
  },
  {
   "cell_type": "markdown",
   "metadata": {},
   "source": [
    "## Concatenating h5ad files"
   ]
  },
  {
   "cell_type": "code",
   "execution_count": null,
   "metadata": {},
   "outputs": [],
   "source": [
    "zf_adata=ad.concat({'hpf10':ad.read_h5ad('../../input_data/zf_farrell10_ZFB.h5ad'),\n",
    "                    'hpf11':ad.read_h5ad('../../input_data/zf_farrell11_ZF3S.h5ad'),\n",
    "                    'hpf12':ad.read_h5ad('../../input_data/zf_farrell12_ZF6S.h5ad')},label='stage')\n",
    "zf_adata.write('zf_10_12_hpf.h5ad')"
   ]
  },
  {
   "cell_type": "markdown",
   "metadata": {},
   "source": [
    "## Read gene name mapping"
   ]
  },
  {
   "cell_type": "markdown",
   "metadata": {},
   "source": [
    "Parse mapping of transcript ids vs gene names used in the anndata object"
   ]
  },
  {
   "cell_type": "code",
   "execution_count": null,
   "metadata": {},
   "outputs": [],
   "source": [
    "with open('../../../reference/zebra_ens_prot/zf_final_prot_gene_map.csv') as f:\n",
    "    dr_idmap=[tuple(line) for line in csv.reader(f)][2:]\n",
    "\n",
    "with open('../../../reference/amp_braflo100_cdna/amp_tr_gene_map.csv') as f:\n",
    "    bf_idmap=[tuple(line) for line in csv.reader(f)][2:]\n",
    "\n",
    "print(dr_idmap[:5])\n",
    "print(bf_idmap[:5])"
   ]
  },
  {
   "cell_type": "markdown",
   "metadata": {},
   "source": [
    "# Running SAMap"
   ]
  },
  {
   "cell_type": "markdown",
   "metadata": {},
   "source": [
    "## Loading in raw data"
   ]
  },
  {
   "cell_type": "code",
   "execution_count": null,
   "metadata": {},
   "outputs": [],
   "source": [
    "path_dr = 'zf_10_12_hpf.h5ad'\n",
    "path_amp = '../../input_data/Amp_h5ad/Amp_N5.h5ad'"
   ]
  },
  {
   "cell_type": "markdown",
   "metadata": {},
   "source": [
    "SAMap expects the above to be in a dictionary keyed by the species IDs determined in the BLAST step:"
   ]
  },
  {
   "cell_type": "code",
   "execution_count": null,
   "metadata": {},
   "outputs": [],
   "source": [
    "filenames = {'dr':path_dr,'bf':path_amp}"
   ]
  },
  {
   "cell_type": "markdown",
   "metadata": {},
   "source": [
    "Instantiate the SAMAP object as below. "
   ]
  },
  {
   "cell_type": "code",
   "execution_count": null,
   "metadata": {},
   "outputs": [],
   "source": [
    "sm = SAMAP(\n",
    "        filenames,\n",
    "        f_maps = '../../../reference/maps_prot/maps_ens/',\n",
    "        names = {'dr' : dr_idmap, 'bf' : bf_idmap},\n",
    "        #keys = {'dr' : 'TimeID', 'bf' : 'stage'},\n",
    "        #resolutions = {'dr' : 5, 'bf' : 3},\n",
    "        save_processed=False #if False, do not save the processed results to `*_pr.h5ad`\n",
    "    )"
   ]
  },
  {
   "cell_type": "markdown",
   "metadata": {},
   "source": [
    "Show unintegrated umaps."
   ]
  },
  {
   "cell_type": "code",
   "execution_count": null,
   "metadata": {},
   "outputs": [],
   "source": [
    "sm.sams['bf'].adata.obs['stage']='N5'\n",
    "vis_keys_bf=['stage','celltype_coarse2']\n",
    "vis_keys_dr=['stage','segment_celltype']\n",
    "print('Amphioxus unintegrated')\n",
    "sc.pl.embedding(sm.sams['bf'].adata,\n",
    "                    basis='X_umap',\n",
    "                    color=vis_keys_bf,\n",
    "                    frameon=False)\n",
    "print('Zebrafish unintegrated')\n",
    "sc.pl.embedding(sm.sams['dr'].adata,\n",
    "                    basis='X_umap',\n",
    "                    color=vis_keys_dr,\n",
    "                    frameon=False)"
   ]
  },
  {
   "cell_type": "markdown",
   "metadata": {},
   "source": [
    "## Run SAMap"
   ]
  },
  {
   "cell_type": "code",
   "execution_count": null,
   "metadata": {},
   "outputs": [],
   "source": [
    "sm.run(ncpus=16)"
   ]
  },
  {
   "cell_type": "markdown",
   "metadata": {},
   "source": [
    "Save samap object."
   ]
  },
  {
   "cell_type": "code",
   "execution_count": null,
   "metadata": {},
   "outputs": [],
   "source": [
    "save_object(sm,'sam_processed.pkl')"
   ]
  },
  {
   "cell_type": "markdown",
   "metadata": {},
   "source": [
    "## Visualizing the combined projection"
   ]
  },
  {
   "cell_type": "code",
   "execution_count": null,
   "metadata": {},
   "outputs": [],
   "source": [
    "fig, ax = plt.subplots()\n",
    "fig.set_figwidth(8)\n",
    "fig.tight_layout()\n",
    "ax.set_title('SAMap UMAP amphioxus (red) vs Zebrafish (blue)')\n",
    "sm.scatter(COLORS={'dr':'#10b9f1','bf':'#f14810'},axes=ax,ss={'bf':5,'dr':5},alpha=0.5)"
   ]
  }
 ],
 "metadata": {
  "kernelspec": {
   "display_name": "Python 3 (ipykernel)",
   "language": "python",
   "name": "python3"
  },
  "language_info": {
   "codemirror_mode": {
    "name": "ipython",
    "version": 3
   },
   "file_extension": ".py",
   "mimetype": "text/x-python",
   "name": "python",
   "nbconvert_exporter": "python",
   "pygments_lexer": "ipython3",
   "version": "3.9.19"
  }
 },
 "nbformat": 4,
 "nbformat_minor": 4
}
